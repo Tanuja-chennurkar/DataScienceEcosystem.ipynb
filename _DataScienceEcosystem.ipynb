{
 "cells": [
  {
   "cell_type": "markdown",
   "id": "a249fdc2",
   "metadata": {},
   "source": [
    "# Data science tools and Ecosystem"
   ]
  },
  {
   "cell_type": "markdown",
   "id": "3e0f9e05",
   "metadata": {},
   "source": [
    "In this notebook, Data Science Tools and Ecosystem are summarized."
   ]
  },
  {
   "cell_type": "markdown",
   "id": "18a3ab77",
   "metadata": {},
   "source": [
    "**Objectives**\n",
    " - Some of the popular languages that Data Scientists use are:\n",
    " - Some of the popular languages that Data Scientists use are:\n",
    " - Data science tools\n",
    " - Arithmetic expression\n",
    " - converting minutes to hours"
   ]
  },
  {
   "cell_type": "markdown",
   "id": "651e860e",
   "metadata": {},
   "source": [
    "Some of the popular languages that Data Scientists use are:\n",
    "\n",
    "1. Python\n",
    "2. R\n",
    "3. SQL\n"
   ]
  },
  {
   "cell_type": "markdown",
   "id": "6c00a60d",
   "metadata": {},
   "source": [
    "Some of the popular languages that Data Scientists use are:\n",
    "\n",
    "1. Python\n",
    "2. R\n",
    "3. SQL\n"
   ]
  },
  {
   "cell_type": "markdown",
   "id": "95b61bdc",
   "metadata": {},
   "source": [
    "Some of the commonly used libraries used by Data Scientists include:\n",
    "\n",
    "1. NumPy \n",
    "2. SciPy \n",
    "3. PyTorch \n",
    "4. Pandas"
   ]
  },
  {
   "cell_type": "markdown",
   "id": "2ca4b005",
   "metadata": {},
   "source": [
    "|Data Science Tools|\n",
    "-----------------------------\n",
    "Tensorflow\n",
    "Apache Spark\n",
    "Jupyter Notebook"
   ]
  },
  {
   "cell_type": "markdown",
   "id": "13e776e9",
   "metadata": {},
   "source": [
    "### Below are a few examples of evaluating arithmetic expressions in Python"
   ]
  },
  {
   "cell_type": "code",
   "execution_count": 1,
   "id": "ee920293",
   "metadata": {},
   "outputs": [
    {
     "name": "stdout",
     "output_type": "stream",
     "text": [
      "17\n"
     ]
    }
   ],
   "source": [
    "# This a simple arithmetic expression to mutiply then add integers\n",
    "a = (3*4)+5\n",
    "print(a)"
   ]
  },
  {
   "cell_type": "code",
   "execution_count": 9,
   "id": "5efc546c",
   "metadata": {},
   "outputs": [
    {
     "name": "stdout",
     "output_type": "stream",
     "text": [
      "3\n"
     ]
    }
   ],
   "source": [
    " #This will convert 200 minutes to hours by diving by 60\n",
    "a = 200\n",
    "hours = a / 60\n",
    "print(int(hours))"
   ]
  },
  {
   "cell_type": "markdown",
   "id": "cd5bd7d9",
   "metadata": {},
   "source": [
    "# Author\n",
    "Tanuja chennurkar"
   ]
  },
  {
   "cell_type": "code",
   "execution_count": null,
   "id": "b303368f",
   "metadata": {},
   "outputs": [],
   "source": []
  }
 ],
 "metadata": {
  "kernelspec": {
   "display_name": "Python 3 (ipykernel)",
   "language": "python",
   "name": "python3"
  },
  "language_info": {
   "codemirror_mode": {
    "name": "ipython",
    "version": 3
   },
   "file_extension": ".py",
   "mimetype": "text/x-python",
   "name": "python",
   "nbconvert_exporter": "python",
   "pygments_lexer": "ipython3",
   "version": "3.9.12"
  }
 },
 "nbformat": 4,
 "nbformat_minor": 5
}
